{
  "nbformat": 4,
  "nbformat_minor": 0,
  "metadata": {
    "colab": {
      "name": "vae.ipynb",
      "version": "0.3.2",
      "views": {},
      "default_view": {},
      "provenance": [],
      "collapsed_sections": []
    },
    "kernelspec": {
      "name": "python3",
      "display_name": "Python 3"
    },
    "accelerator": "GPU"
  },
  "cells": [
    {
      "metadata": {
        "id": "E9a93pcLLYiR",
        "colab_type": "code",
        "colab": {
          "autoexec": {
            "startup": false,
            "wait_interval": 0
          },
          "base_uri": "https://localhost:8080/",
          "height": 412
        },
        "outputId": "1dc8f0e4-a8c3-4319-f02e-9b18848e0fc1",
        "executionInfo": {
          "status": "ok",
          "timestamp": 1526734935170,
          "user_tz": 240,
          "elapsed": 43193,
          "user": {
            "displayName": "Apurba Sengupta",
            "photoUrl": "//lh5.googleusercontent.com/-chS88YTaag4/AAAAAAAAAAI/AAAAAAAAADc/NH9a1APd7YU/s50-c-k-no/photo.jpg",
            "userId": "103756724637635722820"
          }
        }
      },
      "cell_type": "code",
      "source": [
        "!pip3 install http://download.pytorch.org/whl/cu91/torch-0.4.0-cp36-cp36m-linux_x86_64.whl \n",
        "!pip3 install torchvision"
      ],
      "execution_count": 1,
      "outputs": [
        {
          "output_type": "stream",
          "text": [
            "Collecting torch==0.4.0 from http://download.pytorch.org/whl/cu91/torch-0.4.0-cp36-cp36m-linux_x86_64.whl\n",
            "\u001b[?25l  Downloading http://download.pytorch.org/whl/cu91/torch-0.4.0-cp36-cp36m-linux_x86_64.whl (538.9MB)\n",
            "\u001b[K    100% |████████████████████████████████| 538.9MB 42.2MB/s \n",
            "tcmalloc: large alloc 1073750016 bytes == 0x5bf8a000 @  0x7f9bea6a01c4 0x46d6a4 0x5fcbcc 0x4c494d 0x54f3c4 0x553aaf 0x54e4c8 0x54f4f6 0x553aaf 0x54efc1 0x54f24d 0x553aaf 0x54efc1 0x54f24d 0x553aaf 0x54efc1 0x54f24d 0x551ee0 0x54e4c8 0x54f4f6 0x553aaf 0x54efc1 0x54f24d 0x551ee0 0x54efc1 0x54f24d 0x551ee0 0x54e4c8 0x54f4f6 0x553aaf 0x54e4c8\n",
            "\u001b[?25hInstalling collected packages: torch\n",
            "Successfully installed torch-0.4.0\n",
            "Collecting torchvision\n",
            "\u001b[?25l  Downloading https://files.pythonhosted.org/packages/ca/0d/f00b2885711e08bd71242ebe7b96561e6f6d01fdb4b9dcf4d37e2e13c5e1/torchvision-0.2.1-py2.py3-none-any.whl (54kB)\n",
            "\u001b[K    100% |████████████████████████████████| 61kB 4.0MB/s \n",
            "\u001b[?25hRequirement already satisfied: numpy in /usr/local/lib/python3.6/dist-packages (from torchvision) (1.14.3)\n",
            "Requirement already satisfied: torch in /usr/local/lib/python3.6/dist-packages (from torchvision) (0.4.0)\n",
            "Requirement already satisfied: six in /usr/local/lib/python3.6/dist-packages (from torchvision) (1.11.0)\n",
            "Collecting pillow>=4.1.1 (from torchvision)\n",
            "\u001b[?25l  Downloading https://files.pythonhosted.org/packages/5f/4b/8b54ab9d37b93998c81b364557dff9f61972c0f650efa0ceaf470b392740/Pillow-5.1.0-cp36-cp36m-manylinux1_x86_64.whl (2.0MB)\n",
            "\u001b[K    100% |████████████████████████████████| 2.0MB 9.6MB/s \n",
            "\u001b[?25hInstalling collected packages: pillow, torchvision\n",
            "  Found existing installation: Pillow 4.0.0\n",
            "    Uninstalling Pillow-4.0.0:\n",
            "      Successfully uninstalled Pillow-4.0.0\n",
            "Successfully installed pillow-5.1.0 torchvision-0.2.1\n"
          ],
          "name": "stdout"
        }
      ]
    },
    {
      "metadata": {
        "id": "4t62s6s2zuJU",
        "colab_type": "code",
        "colab": {
          "autoexec": {
            "startup": false,
            "wait_interval": 0
          },
          "base_uri": "https://localhost:8080/",
          "height": 177
        },
        "outputId": "877b59b7-c9dc-4dab-d79d-199c6fb68801",
        "executionInfo": {
          "status": "ok",
          "timestamp": 1526735014238,
          "user_tz": 240,
          "elapsed": 13718,
          "user": {
            "displayName": "Apurba Sengupta",
            "photoUrl": "//lh5.googleusercontent.com/-chS88YTaag4/AAAAAAAAAAI/AAAAAAAAADc/NH9a1APd7YU/s50-c-k-no/photo.jpg",
            "userId": "103756724637635722820"
          }
        }
      },
      "cell_type": "code",
      "source": [
        "!apt-get install -y -qq software-properties-common python-software-properties module-init-tools\n",
        "!add-apt-repository -y ppa:alessandro-strada/ppa 2>&1 > /dev/null\n",
        "!apt-get update -qq 2>&1 > /dev/null\n",
        "!apt-get -y install -qq google-drive-ocamlfuse fuse\n",
        "from google.colab import auth\n",
        "auth.authenticate_user()\n",
        "from oauth2client.client import GoogleCredentials\n",
        "creds = GoogleCredentials.get_application_default()\n",
        "import getpass\n",
        "!google-drive-ocamlfuse -headless -id={creds.client_id} -secret={creds.client_secret} < /dev/null 2>&1 | grep URL\n",
        "vcode = getpass.getpass()\n",
        "!echo {vcode} | google-drive-ocamlfuse -headless -id={creds.client_id} -secret={creds.client_secret}"
      ],
      "execution_count": 2,
      "outputs": [
        {
          "output_type": "stream",
          "text": [
            "Please, open the following URL in a web browser: https://accounts.google.com/o/oauth2/auth?client_id=32555940559.apps.googleusercontent.com&redirect_uri=urn%3Aietf%3Awg%3Aoauth%3A2.0%3Aoob&scope=https%3A%2F%2Fwww.googleapis.com%2Fauth%2Fdrive&response_type=code&access_type=offline&approval_prompt=force\r\n",
            "··········\n",
            "Please, open the following URL in a web browser: https://accounts.google.com/o/oauth2/auth?client_id=32555940559.apps.googleusercontent.com&redirect_uri=urn%3Aietf%3Awg%3Aoauth%3A2.0%3Aoob&scope=https%3A%2F%2Fwww.googleapis.com%2Fauth%2Fdrive&response_type=code&access_type=offline&approval_prompt=force\n",
            "Please enter the verification code: Access token retrieved correctly.\n"
          ],
          "name": "stdout"
        }
      ]
    },
    {
      "metadata": {
        "id": "-RyKl9880b4k",
        "colab_type": "code",
        "colab": {
          "autoexec": {
            "startup": false,
            "wait_interval": 0
          }
        }
      },
      "cell_type": "code",
      "source": [
        "!mkdir -p drive\n",
        "!google-drive-ocamlfuse drive"
      ],
      "execution_count": 0,
      "outputs": []
    },
    {
      "metadata": {
        "id": "OVYKf15TLi_r",
        "colab_type": "code",
        "colab": {
          "autoexec": {
            "startup": false,
            "wait_interval": 0
          }
        }
      },
      "cell_type": "code",
      "source": [
        "import torch\n",
        "import torchvision\n",
        "import torchvision.transforms as transforms\n",
        "import torchvision.models as models\n",
        "import torch.nn as nn\n",
        "import torch.optim as optim\n",
        "import torch.nn.functional as F\n",
        "from torch.autograd import Variable\n",
        "import numpy as np\n",
        "import matplotlib.pyplot as plt"
      ],
      "execution_count": 0,
      "outputs": []
    },
    {
      "metadata": {
        "id": "SK9y5sfIL6Z0",
        "colab_type": "code",
        "colab": {
          "autoexec": {
            "startup": false,
            "wait_interval": 0
          }
        }
      },
      "cell_type": "code",
      "source": [
        "# load CIFAR-10 train and test datasets\n",
        "\n",
        "train_transform = transforms.Compose([transforms.ToTensor(), transforms.Normalize((0.1307,), (0.3081,))])\n",
        "\n",
        "trainset = torchvision.datasets.MNIST(root='./data', train=True, download=True, transform=train_transform)\n",
        "\n",
        "trainloader = torch.utils.data.DataLoader(trainset, batch_size=100, shuffle=True)\n",
        "\n",
        "test_transform = transforms.Compose([transforms.ToTensor(), transforms.Normalize((0.1307,), (0.3081,))])\n",
        "\n",
        "testset = torchvision.datasets.MNIST(root='./data', train=False, download=True, transform=test_transform)\n",
        "\n",
        "testloader = torch.utils.data.DataLoader(testset, batch_size=100, shuffle=False)"
      ],
      "execution_count": 0,
      "outputs": []
    },
    {
      "metadata": {
        "id": "QedcELb4NWww",
        "colab_type": "code",
        "colab": {
          "autoexec": {
            "startup": false,
            "wait_interval": 0
          }
        }
      },
      "cell_type": "code",
      "source": [
        "# set seeds\n",
        "\n",
        "torch.manual_seed(1)\n",
        "\n",
        "if torch.cuda.is_available():\n",
        "    torch.cuda.manual_seed(1)"
      ],
      "execution_count": 0,
      "outputs": []
    },
    {
      "metadata": {
        "id": "T3f8_lgWNu7i",
        "colab_type": "code",
        "colab": {
          "autoexec": {
            "startup": false,
            "wait_interval": 0
          }
        }
      },
      "cell_type": "code",
      "source": [
        "class VAE(nn.Module):\n",
        "    \n",
        "    def __init__(self):\n",
        "        \n",
        "        super(VAE, self).__init__()\n",
        "        \n",
        "        # Encoder\n",
        "        self.fc1 = nn.Linear(28 * 28, 128)\n",
        "        \n",
        "        # Latent space\n",
        "        self.fc2a = nn.Linear(128, 50)\n",
        "        self.fc2b = nn.Linear(128, 50)\n",
        "        \n",
        "        # Decoder\n",
        "        self.fc3 = nn.Linear(50, 128)\n",
        "        self.fc4 = nn.Linear(128, 28 * 28)\n",
        "        \n",
        "    def forward(self, x):\n",
        "      \n",
        "        # Encoding\n",
        "        out = x.view(x.size(0), -1)\n",
        "        out = F.relu(self.fc1(out))\n",
        "        \n",
        "        # Latent space\n",
        "        mu = self.fc2a(out)\n",
        "        logvar = self.fc2b(out)\n",
        "        \n",
        "        # Reparameterization\n",
        "        if self.training:\n",
        "          \n",
        "            # get the standard deviation\n",
        "            std = logvar.mul(0.5).exp_()\n",
        "            \n",
        "            # create a standard normal with the above standard deviation\n",
        "            eps = Variable(std.data.new(std.size()).normal_())\n",
        "            \n",
        "            # add the mean to get the encoder distribution\n",
        "            z = eps.mul(std).add_(mu)\n",
        "        \n",
        "        else:\n",
        "            \n",
        "            z = mu\n",
        "            \n",
        "        # Decoding\n",
        "        out = F.relu(self.fc3(z))\n",
        "        out = F.relu(self.fc4(out))\n",
        "        out = F.sigmoid(out)\n",
        "        out = out.view(out.size(0), 1, 28, 28)\n",
        "        \n",
        "        return out, mu, logvar"
      ],
      "execution_count": 0,
      "outputs": []
    },
    {
      "metadata": {
        "id": "P42n3uPSWrSZ",
        "colab_type": "code",
        "colab": {
          "autoexec": {
            "startup": false,
            "wait_interval": 0
          },
          "base_uri": "https://localhost:8080/",
          "height": 136
        },
        "outputId": "9945dbfe-30dc-461c-f840-a28f8e8b80f9",
        "executionInfo": {
          "status": "ok",
          "timestamp": 1526770624792,
          "user_tz": 240,
          "elapsed": 347,
          "user": {
            "displayName": "Apurba Sengupta",
            "photoUrl": "//lh5.googleusercontent.com/-chS88YTaag4/AAAAAAAAAAI/AAAAAAAAADc/NH9a1APd7YU/s50-c-k-no/photo.jpg",
            "userId": "103756724637635722820"
          }
        }
      },
      "cell_type": "code",
      "source": [
        "# create a model of the VAE\n",
        "vae = VAE()\n",
        "\n",
        "# use if GPU available \n",
        "if torch.cuda.is_available():\n",
        "    vae = vae.cuda()\n",
        "    \n",
        "vae    "
      ],
      "execution_count": 302,
      "outputs": [
        {
          "output_type": "execute_result",
          "data": {
            "text/plain": [
              "VAE(\n",
              "  (fc1): Linear(in_features=784, out_features=128, bias=True)\n",
              "  (fc2a): Linear(in_features=128, out_features=50, bias=True)\n",
              "  (fc2b): Linear(in_features=128, out_features=50, bias=True)\n",
              "  (fc3): Linear(in_features=50, out_features=128, bias=True)\n",
              "  (fc4): Linear(in_features=128, out_features=784, bias=True)\n",
              ")"
            ]
          },
          "metadata": {
            "tags": []
          },
          "execution_count": 302
        }
      ]
    },
    {
      "metadata": {
        "id": "JlAKWsOXXoEf",
        "colab_type": "code",
        "colab": {
          "autoexec": {
            "startup": false,
            "wait_interval": 0
          }
        }
      },
      "cell_type": "code",
      "source": [
        "# set the optimizer\n",
        "optimizer = optim.RMSprop(vae.parameters(), lr=0.01, alpha=0.99, eps=1e-08)\n",
        "\n",
        "# define the loss function\n",
        "def loss_function(recon_x, x, mu, logvar):\n",
        "  \n",
        "  # binary cross-entropy loss betweeen the reconstructed and the original image\n",
        "  BCE = F.binary_cross_entropy(recon_x.view(-1, 28 * 28), x.view(-1, 28 * 28), size_average=False)\n",
        "  \n",
        "  # KL divergence between the encoder distribution and the standard normal prior of the latent variables\n",
        "  KLD = -0.5 * torch.sum(1 + logvar - mu.pow(2) - logvar.exp())\n",
        "  \n",
        "  # return combined loss\n",
        "  return BCE + KLD"
      ],
      "execution_count": 0,
      "outputs": []
    },
    {
      "metadata": {
        "id": "c2EYm-H8Zbp5",
        "colab_type": "code",
        "colab": {
          "autoexec": {
            "startup": false,
            "wait_interval": 0
          },
          "base_uri": "https://localhost:8080/",
          "height": 1465
        },
        "outputId": "38733490-8894-4128-ca3f-3f17f6dc1802",
        "executionInfo": {
          "status": "ok",
          "timestamp": 1526770858196,
          "user_tz": 240,
          "elapsed": 231388,
          "user": {
            "displayName": "Apurba Sengupta",
            "photoUrl": "//lh5.googleusercontent.com/-chS88YTaag4/AAAAAAAAAAI/AAAAAAAAADc/NH9a1APd7YU/s50-c-k-no/photo.jpg",
            "userId": "103756724637635722820"
          }
        }
      },
      "cell_type": "code",
      "source": [
        "MAX_EPOCHS = 15\n",
        "\n",
        "loss_arr = []\n",
        "\n",
        "for epoch in range(1, MAX_EPOCHS + 1):\n",
        "    \n",
        "    loss_tot = 0\n",
        "    \n",
        "    for i, data in enumerate(trainloader, 0):\n",
        "        \n",
        "        # get the inputs\n",
        "        inputs, _ = data\n",
        "        \n",
        "        # use GPU if available\n",
        "        if torch.cuda.is_available():\n",
        "            inputs = Variable(inputs.cuda())\n",
        "        \n",
        "        # zero the parameter gradients\n",
        "        optimizer.zero_grad()\n",
        "\n",
        "        # forward + loss + backward + update\n",
        "        recon_inputs, mu, logvar = vae(inputs)\n",
        "        loss = loss_function(recon_inputs, inputs, mu, logvar)\n",
        "        loss_tot += loss\n",
        "        loss.backward()\n",
        "        optimizer.step()\n",
        "    \n",
        "    loss_arr.append(float(loss_tot)/float((i+1)*100))\n",
        "    \n",
        "    if epoch%5 == 0:\n",
        "        print(\"\\n Epoch #\" + str(epoch))\n",
        "    \n",
        "    for j, data in enumerate(testloader, 0):\n",
        "      \n",
        "        # get the inputs\n",
        "        inputs, _ = data\n",
        "        \n",
        "        # use GPU if available\n",
        "        if torch.cuda.is_available():\n",
        "            inputs = Variable(inputs.cuda())\n",
        "\n",
        "        # forward\n",
        "        recon_inputs, mu, logvar = vae(inputs)\n",
        "    \n",
        "        if epoch%5 == 0 and j == 0:\n",
        "        \n",
        "            compare = torch.cat([inputs[:10], recon_inputs[:10]])\n",
        "        \n",
        "            plt.imshow(np.reshape(compare.data.cpu().numpy(), (560,28)), cmap='gray')\n",
        "            plt.show()\n",
        "            \n",
        "plt.plot(range(1, MAX_EPOCHS + 1), loss_arr)\n",
        "plt.xlabel('No. of epochs')\n",
        "plt.ylabel('Loss')\n",
        "plt.show()"
      ],
      "execution_count": 304,
      "outputs": [
        {
          "output_type": "stream",
          "text": [
            "\n",
            " Epoch #5\n"
          ],
          "name": "stdout"
        },
        {
          "output_type": "display_data",
          "data": {
            "image/png": "[encoded data removed]",
            "text/plain": [
              "<matplotlib.figure.Figure at 0x7fb0516c99b0>"
            ]
          },
          "metadata": {
            "tags": []
          }
        },
        {
          "output_type": "stream",
          "text": [
            "\n",
            " Epoch #10\n"
          ],
          "name": "stdout"
        },
        {
          "output_type": "display_data",
          "data": {
            "image/png": "[encoded data removed]",
            "text/plain": [
              "<matplotlib.figure.Figure at 0x7fb0519ffcf8>"
            ]
          },
          "metadata": {
            "tags": []
          }
        },
        {
          "output_type": "stream",
          "text": [
            "\n",
            " Epoch #15\n"
          ],
          "name": "stdout"
        },
        {
          "output_type": "display_data",
          "data": {
            "image/png": "[encoded data removed]",
            "text/plain": [
              "<matplotlib.figure.Figure at 0x7fb0513e7748>"
            ]
          },
          "metadata": {
            "tags": []
          }
        },
        {
          "output_type": "display_data",
          "data": {
            "image/png": "[encoded data removed]",
            "text/plain": [
              "<matplotlib.figure.Figure at 0x7fb052505f60>"
            ]
          },
          "metadata": {
            "tags": []
          }
        }
      ]
    },
    {
      "metadata": {
        "id": "iebNUJ3dgdp1",
        "colab_type": "code",
        "colab": {
          "autoexec": {
            "startup": false,
            "wait_interval": 0
          }
        }
      },
      "cell_type": "code",
      "source": [
        "del vae\n",
        "del trainset\n",
        "del trainloader\n",
        "del testset\n",
        "del testloader"
      ],
      "execution_count": 0,
      "outputs": []
    },
    {
      "metadata": {
        "id": "uoQfnuXddwRf",
        "colab_type": "code",
        "colab": {
          "autoexec": {
            "startup": false,
            "wait_interval": 0
          }
        }
      },
      "cell_type": "code",
      "source": [
        ""
      ],
      "execution_count": 0,
      "outputs": []
    }
  ]
}
